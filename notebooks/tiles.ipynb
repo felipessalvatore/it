{
 "cells": [
  {
   "cell_type": "code",
   "execution_count": 1,
   "id": "b732efec",
   "metadata": {},
   "outputs": [],
   "source": [
    "import numpy as np\n",
    "import pandas as pd\n",
    "import matplotlib.pyplot as plt\n",
    "import scipy\n",
    "from scipy import stats\n",
    "from matplotlib.patches import Polygon\n",
    "import matplotlib.pyplot as plt"
   ]
  },
  {
   "cell_type": "code",
   "execution_count": 2,
   "id": "0ba6e9b9",
   "metadata": {},
   "outputs": [
    {
     "data": {
      "image/png": "[encoded data removed]",
      "text/plain": [
       "<Figure size 720x144 with 5 Axes>"
      ]
     },
     "metadata": {},
     "output_type": "display_data"
    }
   ],
   "source": [
    "def get_0():\n",
    "    return Polygon([(0,0)], color=\"k\")\n",
    "\n",
    "def get_1():\n",
    "    return Polygon([(0,0), (0,1), (1,1), (1,0)], color=\"k\")\n",
    "\n",
    "def get_2():\n",
    "    return Polygon([(0,0), (0,1), (1,0)], color=\"k\")\n",
    "\n",
    "def get_3():\n",
    "    return Polygon([(1,0), (1,1), (0,1)], color=\"k\")\n",
    "\n",
    "def get_4():\n",
    "    return Polygon([(0,0), (1,1), (0,1)], color=\"k\")\n",
    "\n",
    "def get_5():\n",
    "    return Polygon([(0,0), (1,1), (1,0)], color=\"k\")\n",
    "\n",
    "def num2tile(num):\n",
    "    if num==0:\n",
    "        return get_0()\n",
    "    elif num ==1:\n",
    "        return get_1()\n",
    "    elif num ==2:\n",
    "        return get_2()\n",
    "    elif num ==3:\n",
    "        return get_3()\n",
    "    elif num ==4:\n",
    "        return get_4()\n",
    "    elif num ==5:\n",
    "        return get_5()\n",
    "\n",
    "v = [0,1,2,3,4,5]\n",
    "fig, _ = plt.subplots(1,5, figsize=(10,2))\n",
    "fig.subplots_adjust(hspace=0.00, wspace=0.00)\n",
    "for n,ax in zip(v, fig.axes):\n",
    "    ax.add_patch(num2tile(n))\n",
    "    ax.set_xticks([])\n",
    "    ax.set_yticks([])\n"
   ]
  },
  {
   "cell_type": "code",
   "execution_count": 3,
   "id": "cb0d6409",
   "metadata": {},
   "outputs": [
    {
     "data": {
      "image/png": "[encoded data removed]",
      "text/plain": [
       "<Figure size 360x360 with 9 Axes>"
      ]
     },
     "metadata": {},
     "output_type": "display_data"
    }
   ],
   "source": [
    "v = [3,1,4,1,5,3,4,2,1]\n",
    "fig, _ = plt.subplots(3,3, figsize=(5,5))\n",
    "fig.subplots_adjust(hspace=0.00, wspace=0.00)\n",
    "for n,ax in zip(v, fig.axes):\n",
    "    ax.add_patch(num2tile(n))\n",
    "    ax.set_xticks([])\n",
    "    ax.set_yticks([])\n"
   ]
  },
  {
   "cell_type": "code",
   "execution_count": 4,
   "id": "b84a0046",
   "metadata": {},
   "outputs": [],
   "source": [
    "rotate_cw = {0:0, 1:1,\n",
    "             2:4, 3:5,\n",
    "             4:3, 5:2,\n",
    "             6:8, 7:9,\n",
    "             8:7, 9:6}\n",
    "\n",
    "rotate_ccw = {0:0, 1:1,\n",
    "              2:5, 3:4,\n",
    "              4:2, 5:3,\n",
    "              6:9, 7:8,\n",
    "              8:6, 9:9}\n",
    "\n",
    "v = [7,1,2,3]\n"
   ]
  },
  {
   "cell_type": "code",
   "execution_count": 5,
   "id": "ceb5d468",
   "metadata": {},
   "outputs": [
    {
     "name": "stdout",
     "output_type": "stream",
     "text": [
      "0 [7, 1, 2, 3] \n",
      "\n",
      "0 4 7\n",
      "1 [7, 1, 2, 4] \n",
      "\n",
      "1 9 1\n",
      "2 [9, 1, 4, 4] \n",
      "\n",
      "2 1 4\n",
      "3 [9, 1, 4, 3] \n",
      "\n",
      "3 2 3\n"
     ]
    }
   ],
   "source": [
    "v = [7,1,2,3]\n",
    "for i,_ in enumerate(v):\n",
    "    print(i,v,\"\\n\")\n",
    "    try:\n",
    "        if v[i-1]%v[i] == 0:\n",
    "#             print(i, v[i-1],v[i])\n",
    "            v[i-1] = rotate_cw[v[i-1]]\n",
    "        else:\n",
    "            v[i-1] = rotate_ccw[v[i-1]]\n",
    "    except IndexError:\n",
    "        pass\n",
    "    try:\n",
    "        print(i, v[i-1],v[i])\n",
    "        if v[i+1]%v[i] == 0:\n",
    "            v[i+1] = rotate_cw[v[i+1]]\n",
    "        else:\n",
    "            v[i+1] = rotate_ccw[v[i+1]]\n",
    "    except IndexError:\n",
    "        pass"
   ]
  },
  {
   "cell_type": "code",
   "execution_count": null,
   "id": "38919dac",
   "metadata": {},
   "outputs": [],
   "source": []
  },
  {
   "cell_type": "code",
   "execution_count": null,
   "id": "d8953b63",
   "metadata": {},
   "outputs": [],
   "source": []
  },
  {
   "cell_type": "code",
   "execution_count": null,
   "id": "09f346eb",
   "metadata": {},
   "outputs": [],
   "source": []
  }
 ],
 "metadata": {
  "kernelspec": {
   "display_name": "Python [conda env:model_risk]",
   "language": "python",
   "name": "conda-env-model_risk-py"
  },
  "language_info": {
   "codemirror_mode": {
    "name": "ipython",
    "version": 3
   },
   "file_extension": ".py",
   "mimetype": "text/x-python",
   "name": "python",
   "nbconvert_exporter": "python",
   "pygments_lexer": "ipython3",
   "version": "3.6.13"
  }
 },
 "nbformat": 4,
 "nbformat_minor": 5
}
