{
 "cells": [
  {
   "cell_type": "code",
   "execution_count": 2,
   "id": "2bccd421",
   "metadata": {},
   "outputs": [],
   "source": [
    "import numpy as np\n",
    "import pandas as pd\n",
    "import matplotlib.pyplot as plt\n",
    "import scipy\n",
    "from scipy import stats"
   ]
  },
  {
   "cell_type": "code",
   "execution_count": 40,
   "id": "8236c9da-a257-446f-8214-95dd09d5246a",
   "metadata": {},
   "outputs": [
    {
     "name": "stdout",
     "output_type": "stream",
     "text": [
      "21.63 21.6\n"
     ]
    }
   ],
   "source": [
    "def f(x):\n",
    "    return (3*np.power(x,2)) +1\n",
    "\n",
    "def del_f(x,e = 0.01):\n",
    "    return (f(x+e) - f(x))/e\n",
    "\n",
    "del_f_ = np.vectorize(del_f)\n",
    "\n",
    "a,b = 2.5,4.7\n",
    "\n",
    "xs =  np.linspace(a,b,100)\n",
    "ys = del_f_(xs)\n",
    "mc = np.round(np.mean(ys),2)\n",
    "mc\n",
    "formal = (((b**2)/2 - (a**2)/2)*6)/(b-a)\n",
    "print(mc, formal)"
   ]
  },
  {
   "cell_type": "code",
   "execution_count": 34,
   "id": "f1d11567-90b8-4227-bf50-e49000251e2d",
   "metadata": {},
   "outputs": [
    {
     "data": {
      "text/plain": [
       "21.6"
      ]
     },
     "execution_count": 34,
     "metadata": {},
     "output_type": "execute_result"
    }
   ],
   "source": []
  },
  {
   "cell_type": "code",
   "execution_count": 29,
   "id": "69ca0faf-4be9-4e88-995e-e9446a47409f",
   "metadata": {},
   "outputs": [
    {
     "data": {
      "text/plain": [
       "7.610638297872342"
      ]
     },
     "execution_count": 29,
     "metadata": {},
     "output_type": "execute_result"
    }
   ],
   "source": [
    "(f(b) - f(a))/b-a"
   ]
  },
  {
   "cell_type": "code",
   "execution_count": 47,
   "id": "f92c43fa",
   "metadata": {},
   "outputs": [
    {
     "name": "stdout",
     "output_type": "stream",
     "text": [
      "0 0.000\n",
      "1 0.063\n",
      "2 0.221\n",
      "3 0.293\n",
      "4 0.236\n",
      "5 0.129\n",
      "6 0.047\n",
      "7 0.010\n",
      "8 0.001\n",
      "9 0.000\n",
      "10 0.000\n"
     ]
    }
   ],
   "source": [
    "# example 2.6\n",
    "urns = np.array([0,1,2,3,4,5,6,7,8,9,10])\n",
    "ps = urns / 10\n",
    "n = 10\n",
    "observed = 3\n",
    "p_u_n = 0\n",
    "prior = 1 / 11\n",
    "num = []\n",
    "\n",
    "\n",
    "for u,p in zip(urns, ps): \n",
    "    rv = stats.binom(n, p)\n",
    "    prob = rv.pmf(observed)\n",
    "    num.append(prob*prior)\n",
    "    p_u_n += prob*prior\n",
    "\n",
    "posterior = []\n",
    "for u,n in zip(urns,num):\n",
    "    posterior.append(n/p_u_n)\n",
    "    s = \"{:.3f}\".format(n/p_u_n)\n",
    "    print(u,s)   \n",
    "    "
   ]
  },
  {
   "cell_type": "code",
   "execution_count": 49,
   "id": "45870b69",
   "metadata": {},
   "outputs": [
    {
     "name": "stdout",
     "output_type": "stream",
     "text": [
      "0 0.0\n",
      "1 0.01578379770000003\n",
      "2 0.11072962560000005\n",
      "3 0.22013304390000013\n",
      "4 0.2364899328000001\n",
      "5 0.16113281250000017\n",
      "6 0.07007109120000007\n",
      "7 0.01732825710000002\n",
      "8 0.0017301503999999984\n",
      "9 2.1651299999999997e-05\n",
      "10 0.0\n"
     ]
    }
   ],
   "source": [
    "n=11\n",
    "observed = 4\n",
    "p_4_11 = 0\n",
    "for u,p, pos in zip(urns, ps, posterior): \n",
    "    rv = stats.binom(n, p)\n",
    "    prob = rv.pmf(observed)\n",
    "    p_4_11 += pos *prob\n",
    "    print(u,prob) "
   ]
  },
  {
   "cell_type": "code",
   "execution_count": 53,
   "id": "dd020288",
   "metadata": {},
   "outputs": [
    {
     "data": {
      "text/plain": [
       "14.0"
      ]
     },
     "execution_count": 53,
     "metadata": {},
     "output_type": "execute_result"
    }
   ],
   "source": [
    "20*0.7"
   ]
  },
  {
   "cell_type": "code",
   "execution_count": null,
   "id": "2c263705",
   "metadata": {},
   "outputs": [],
   "source": []
  },
  {
   "cell_type": "code",
   "execution_count": null,
   "id": "2462dfcb",
   "metadata": {},
   "outputs": [],
   "source": []
  },
  {
   "cell_type": "code",
   "execution_count": null,
   "id": "e0d52fed",
   "metadata": {},
   "outputs": [],
   "source": []
  },
  {
   "cell_type": "code",
   "execution_count": null,
   "id": "ac053e7d",
   "metadata": {},
   "outputs": [],
   "source": []
  },
  {
   "cell_type": "code",
   "execution_count": null,
   "id": "b6199da8",
   "metadata": {},
   "outputs": [],
   "source": []
  },
  {
   "cell_type": "code",
   "execution_count": null,
   "id": "f9355c8c",
   "metadata": {},
   "outputs": [],
   "source": []
  },
  {
   "cell_type": "code",
   "execution_count": null,
   "id": "89fec3f5",
   "metadata": {},
   "outputs": [],
   "source": []
  },
  {
   "cell_type": "code",
   "execution_count": null,
   "id": "94cc6be2",
   "metadata": {},
   "outputs": [],
   "source": []
  },
  {
   "cell_type": "code",
   "execution_count": null,
   "id": "f6c08708",
   "metadata": {},
   "outputs": [],
   "source": []
  },
  {
   "cell_type": "code",
   "execution_count": null,
   "id": "da0a5487",
   "metadata": {},
   "outputs": [],
   "source": []
  },
  {
   "cell_type": "code",
   "execution_count": null,
   "id": "67a7f863",
   "metadata": {},
   "outputs": [],
   "source": []
  },
  {
   "cell_type": "code",
   "execution_count": null,
   "id": "75188c6b",
   "metadata": {},
   "outputs": [],
   "source": []
  },
  {
   "cell_type": "code",
   "execution_count": null,
   "id": "88f2c1e5",
   "metadata": {},
   "outputs": [],
   "source": []
  },
  {
   "cell_type": "code",
   "execution_count": null,
   "id": "078c0dab",
   "metadata": {},
   "outputs": [],
   "source": []
  }
 ],
 "metadata": {
  "kernelspec": {
   "display_name": "Python [conda env:model_risk]",
   "language": "python",
   "name": "conda-env-model_risk-py"
  },
  "language_info": {
   "codemirror_mode": {
    "name": "ipython",
    "version": 3
   },
   "file_extension": ".py",
   "mimetype": "text/x-python",
   "name": "python",
   "nbconvert_exporter": "python",
   "pygments_lexer": "ipython3",
   "version": "3.6.13"
  }
 },
 "nbformat": 4,
 "nbformat_minor": 5
}
