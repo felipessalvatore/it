{
 "cells": [
  {
   "cell_type": "markdown",
   "id": "bcd6bb2c-5f89-4a18-8107-5f2bb6f521ad",
   "metadata": {
    "tags": []
   },
   "source": [
    "# Chapter 1\n",
    "\n",
    "## Key Abbreviations & Concepts\n",
    "\n",
    "* IFRS = International Financial Reporting Standard.\n",
    "* CECL = Current expected credit loss.\n",
    "* EAD$_{i,s,t}$ = Exposure at default for account $i$ in sub-portfolio $s$ at time $t$.\n",
    "* LGD$_{i,s,t}$ = Loss given default for account $i$ in sub-portfolio $s$ at time $t$.\n",
    "* PD$_{i,s,t}$ = Probability of default for account $i$ in sub-portfolio $s$ at time $t$.\n",
    "* ECL = Expected credit loss.\n",
    "* UL = Unexpected los.\n",
    "\n",
    "ECL key parameters: probability of default (PD), loss given default (LGD) and exposure at default (EAD).\n",
    "\n",
    "Banks estimate ECL as the present value of the above three parameters’ product over a one-year or lifetime horizon, depending upon experiencing a significant increase in credit risk since origination.\n",
    "\n",
    "\n",
    "**Amortized cost** is an accounting method in which all financial assets must be reported on a balance sheet at their amortized value which is equal to their acquisition total minus their principal repayments and any discounts or premiums minus any impairment losses and exchange differences.\n",
    "\n",
    "In accounting, **impairment** is a permanent reduction in the value of a company asset. \n",
    "\n",
    "\n",
    "## Staging Allocation\n",
    "\n",
    "I FRS 9 standard outlines a three-stage model for impairment based on the following:\n",
    "\n",
    "* **Stage 1**. This bucket includes financial instruments that *have not had a significant increase in credit risk since initial recognition or that have low credit risk at the reporting date*. For these assets:\n",
    "    * One-year ECL is recognised.\n",
    "    * Interest revenue is calculated on the gross carrying amount of the asset (that is, without deduction for credit allowance).\n",
    "* **Stage 2**. Financial instruments *that experienced a significant increase in credit risk since initial recognition, but that do not have objective evidence of impairment are allocated to stage 2*. For these assets\n",
    "    * Lifetime ECL is recognised.\n",
    "    * Interest revenue is still calculated on the gross carrying amount of the asset.\n",
    "* **Stage 3**. Assets that *have objective evidence of impairment at reporting date are allocated to stage 3*. For these assets, \n",
    "    * Lifetime ECL is recognised. \n",
    "    * Interest revenue is calculated on the net carrying amount (that is, net of credit allowance).\n",
    "    \n",
    "    \n",
    "## ECL components\n",
    "\n",
    "* **Probability of Default (PD)**: PD provides the likelihood that a borrower will be unable to meet debt obligations within a certain period. Which period?\n",
    "    * One-year PD (Stage 1).\n",
    "    * Lifetime PD (Stage 2).\n",
    "* **Loss given default (LGD)**: LGD represents the portion of a non-recovered credit in case of default. $LGD \\in [0,1]$. Due to its nature, LGD is estimated over the entire workout process. In other words, one needs to consider all re- coveries occurred after default without imposing time restrictions. In this connection, LGD may be regarded as a lifetime metric. \n",
    "* **Exposure at default (EAD)**. EAD is the balance expected credit loss (ECL) is computed on."
   ]
  },
  {
   "cell_type": "code",
   "execution_count": null,
   "id": "9c7b8e86-f473-4f63-9db4-d7c87d5e8023",
   "metadata": {},
   "outputs": [],
   "source": [
    "import numpy as np\n",
    "import pandas as pd"
   ]
  },
  {
   "cell_type": "code",
   "execution_count": null,
   "id": "b805cbc1-bf5b-42fc-b854-56a497d8fb00",
   "metadata": {},
   "outputs": [],
   "source": [
    "from datetime import datetime\n",
    "\n",
    "birthday = datetime(1988, 2, 19, 12, 0, 0)\n",
    "diff = datetime.now() - birthday\n",
    "print diff"
   ]
  },
  {
   "cell_type": "code",
   "execution_count": null,
   "id": "209abd6d-bbda-4d4e-a18e-726a3ce5aba2",
   "metadata": {},
   "outputs": [],
   "source": []
  }
 ],
 "metadata": {
  "kernelspec": {
   "display_name": "Python 3",
   "language": "python",
   "name": "python3"
  },
  "language_info": {
   "codemirror_mode": {
    "name": "ipython",
    "version": 3
   },
   "file_extension": ".py",
   "mimetype": "text/x-python",
   "name": "python",
   "nbconvert_exporter": "python",
   "pygments_lexer": "ipython3",
   "version": "3.8.8"
  }
 },
 "nbformat": 4,
 "nbformat_minor": 5
}
